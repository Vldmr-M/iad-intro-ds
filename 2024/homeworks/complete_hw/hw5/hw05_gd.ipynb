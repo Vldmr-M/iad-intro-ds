{
  "cells": [
    {
      "cell_type": "markdown",
      "metadata": {
        "id": "f46lxLSsBp0f"
      },
      "source": [
        "# Домашнее задание 5. Градиентный спуск. (10 баллов + 2.5 бонус)"
      ]
    },
    {
      "cell_type": "markdown",
      "metadata": {
        "id": "PhdyseeXBp0k"
      },
      "source": [
        "В этом домашнем задании вы напишете градиентный спуск для линейной регрессии, а так же посмотрите, как он ведёт себя с разными параметрами и разными функциями потерь."
      ]
    },
    {
      "cell_type": "markdown",
      "metadata": {
        "id": "do1I2ygaBp0k"
      },
      "source": [
        "Правила:\n",
        "\n",
        "* Домашнее задание оценивается в 10 баллов.\n",
        "\n",
        "* Можно использовать без доказательства любые результаты, встречавшиеся на лекциях или семинарах по курсу, если получение этих результатов не является вопросом задания.\n",
        "\n",
        "* Можно использовать любые свободные источники с *обязательным* указанием ссылки на них.\n",
        "\n",
        "* Плагиат не допускается. При обнаружении случаев списывания, 0 за работу выставляется всем участникам нарушения, даже если можно установить, кто у кого списал.\n",
        "\n",
        "* Старайтесь сделать код как можно более оптимальным. В частности, будет штрафоваться использование циклов в тех случаях, когда операцию можно совершить при помощи инструментов библиотек, о которых рассказывалось в курсе.  "
      ]
    },
    {
      "cell_type": "code",
      "execution_count": 1,
      "metadata": {
        "id": "z8Nfs9riBp0k"
      },
      "outputs": [],
      "source": [
        "from typing import Iterable, List\n",
        "\n",
        "import matplotlib.pyplot as plt\n",
        "import numpy as np"
      ]
    },
    {
      "cell_type": "markdown",
      "metadata": {
        "id": "u5OOYVQOBp0l"
      },
      "source": [
        "## Часть 1. Градиентный спуск (5 баллов)"
      ]
    },
    {
      "cell_type": "markdown",
      "metadata": {
        "id": "7j2vGNTyBp0l"
      },
      "source": [
        "Для начала давайте вспомним самый простой функционал ошибки, который мы применяем в задаче регрессии — Mean Squared Error:\n",
        "\n",
        "$$\n",
        "Q(w, X, y) = \\frac{1}{\\ell} \\sum\\limits_{i=1}^\\ell (\\langle x_i, w \\rangle - y_i)^2\n",
        "$$\n",
        "\n",
        "где $x_i$ — это $i$-ый объект датасета, $y_i$ — правильный ответ для $i$-го объекта, а $w$ — веса нашей линейной модели.\n",
        "\n",
        "Как мы помним, для линейной модели, его можно записать в матричном виде вот так:\n",
        "\n",
        "$$\n",
        "Q(w, X, y) = \\frac{1}{\\ell} || Xw - y ||^2\n",
        "$$\n",
        "\n",
        "где $X$ — это матрица объекты-признаки, а $y$ — вектор правильных ответов\n",
        "\n",
        "Для того чтобы воспользоваться методом градиентного спуска, нам нужно посчитать градиент нашего функционала. Для MSE он будет выглядеть так:\n",
        "\n",
        "$$\n",
        "\\nabla_w Q(w, X, y) = \\frac{2}{\\ell} X^T(Xw-y)\n",
        "$$"
      ]
    },
    {
      "cell_type": "markdown",
      "metadata": {
        "id": "05tP14CdBp0l"
      },
      "source": [
        "Ниже приведён базовый класс `BaseLoss`, который мы будем использовать для реализации всех наших лоссов. Менять его не нужно. У него есть два абстрактных метода:\n",
        "1. Метод `calc_loss`, который будет принимать на вход объекты `x`, правильные ответы `y` и веса `w` и вычислять значения лосса\n",
        "2. Метод `calc_grad`, который будет принимать на вход объекты `x`, правильные ответы `y` и веса `w` и вычислять значения градиента (вектор)"
      ]
    },
    {
      "cell_type": "code",
      "execution_count": 2,
      "metadata": {
        "id": "JWmOOrj6Bp0m"
      },
      "outputs": [],
      "source": [
        "import abc\n",
        "\n",
        "\n",
        "class BaseLoss(abc.ABC):\n",
        "    \"\"\"Базовый класс лосса\"\"\"\n",
        "\n",
        "    @abc.abstractmethod\n",
        "    def calc_loss(self, X: np.ndarray, y: np.ndarray, w: np.ndarray) -> float:\n",
        "        \"\"\"\n",
        "        Функция для вычислений значения лосса\n",
        "        :param X: np.ndarray размера (n_objects, n_features) с объектами датасета\n",
        "        :param y: np.ndarray размера (n_objects,) с правильными ответами\n",
        "        :param w: np.ndarray размера (n_features,) с весами линейной регрессии\n",
        "        :return: число -- значения функции потерь\n",
        "        \"\"\"\n",
        "        raise NotImplementedError\n",
        "\n",
        "    @abc.abstractmethod\n",
        "    def calc_grad(self, X: np.ndarray, y: np.ndarray, w: np.ndarray) -> np.ndarray:\n",
        "        \"\"\"\n",
        "        Функция для вычислений градиента лосса по весам w\n",
        "        :param X: np.ndarray размера (n_objects, n_features) с объектами датасета\n",
        "        :param y: np.ndarray размера (n_objects,) с правильными ответами\n",
        "        :param w: np.ndarray размера (n_features,) с весами линейной регрессии\n",
        "        :return: np.ndarray размера (n_features,) градиент функции потерь по весам w\n",
        "        \"\"\"\n",
        "        raise NotImplementedError"
      ]
    },
    {
      "cell_type": "markdown",
      "metadata": {
        "id": "ob65L_82Bp0m"
      },
      "source": [
        "Теперь давайте напишем реализацию этого абстрактоного класса: Mean Squared Error лосс."
      ]
    },
    {
      "cell_type": "markdown",
      "metadata": {
        "id": "ezASiSCgBp0m"
      },
      "source": [
        "**Задание 1.1 (5/8 балла):** Реализуйте класс `MSELoss`\n",
        "\n",
        "Он должен вычислять лосс и градиент по формулам наверху"
      ]
    },
    {
      "cell_type": "code",
      "execution_count": 3,
      "metadata": {
        "id": "gpvu5XryBp0m"
      },
      "outputs": [],
      "source": [
        "class MSELoss(BaseLoss):\n",
        "    def calc_loss(self, X: np.ndarray, y: np.ndarray, w: np.ndarray) -> float:\n",
        "        \"\"\"\n",
        "        Функция для вычислений значения лосса\n",
        "        :param X: np.ndarray размера (n_objects, n_features) с объектами датасета\n",
        "        :param y: np.ndarray размера (n_objects,) с правильными ответами\n",
        "        :param w: np.ndarray размера (n_features,) с весами линейной регрессии\n",
        "        :return: число -- значения функции потерь\n",
        "        \"\"\"\n",
        "        return (np.linalg.norm(X@w-y)**2/X.shape[0])\n",
        "        # -- YOUR CODE HERE --\n",
        "        # Вычислите значение функции потерь при помощи X, y и w и верните его\n",
        "\n",
        "    def calc_grad(self, X: np.ndarray, y: np.ndarray, w: np.ndarray) -> np.ndarray:\n",
        "        \"\"\"\n",
        "        Функция для вычислений градиента лосса по весам w\n",
        "        :param X: np.ndarray размера (n_objects, n_features) с объектами датасета\n",
        "        :param y: np.ndarray размера (n_objects,) с правильными ответами\n",
        "        :param w: np.ndarray размера (n_features,) с весами линейной регрессии\n",
        "        :return: np.ndarray размера (n_features,) градиент функции потерь по весам w\n",
        "        \"\"\"\n",
        "        # -- YOUR CODE HERE --\n",
        "        # Вычислите значение вектора градиента при помощи X, y и w и верните его\n",
        "        return ((2 * X.T @ (X @ w - y))/X.shape[0])"
      ]
    },
    {
      "cell_type": "markdown",
      "metadata": {
        "id": "188svk-jBp0n"
      },
      "source": [
        "Теперь мы можем создать объект `MSELoss` и при помощи него вычислять значение нашей функции потерь и градиенты:"
      ]
    },
    {
      "cell_type": "code",
      "execution_count": 4,
      "metadata": {
        "id": "yoQZnHVRBp0n",
        "colab": {
          "base_uri": "https://localhost:8080/"
        },
        "outputId": "912e62bd-d7ca-46e8-9677-7180daedc0ed"
      },
      "outputs": [
        {
          "output_type": "stream",
          "name": "stdout",
          "text": [
            "27410283.5\n",
            "[1163180. 1172281. 1181382. 1190483. 1199584. 1208685. 1217786. 1226887.\n",
            " 1235988. 1245089.]\n",
            "Всё верно!\n"
          ]
        }
      ],
      "source": [
        "# Создадим объект лосса\n",
        "loss = MSELoss()\n",
        "\n",
        "# Создадим какой-то датасет\n",
        "X = np.arange(200).reshape(20, 10)\n",
        "y = np.arange(20)\n",
        "\n",
        "# Создадим какой-то вектор весов\n",
        "w = np.arange(10)\n",
        "\n",
        "# Выведем значение лосса и градиента на этом датасете с этим вектором весов\n",
        "print(loss.calc_loss(X, y, w))\n",
        "print(loss.calc_grad(X, y, w))\n",
        "\n",
        "# Проверка, что методы реализованы правильно\n",
        "assert loss.calc_loss(X, y, w) == 27410283.5, \"Метод calc_loss реализован неверно\"\n",
        "assert np.allclose(\n",
        "    loss.calc_grad(X, y, w),\n",
        "    np.array(\n",
        "        [\n",
        "            1163180.0,\n",
        "            1172281.0,\n",
        "            1181382.0,\n",
        "            1190483.0,\n",
        "            1199584.0,\n",
        "            1208685.0,\n",
        "            1217786.0,\n",
        "            1226887.0,\n",
        "            1235988.0,\n",
        "            1245089.0,\n",
        "        ]\n",
        "    ),\n",
        "), \"Метод calc_grad реализован неверно\"\n",
        "print(\"Всё верно!\")"
      ]
    },
    {
      "cell_type": "markdown",
      "metadata": {
        "id": "wqRkUQpABp0n"
      },
      "source": [
        "Теперь когда у нас есть всё для вычисления градиента, давайте напишем наш градиентный спуск. Напомним, что формула для одной итерации градиентного спуска выглядит следующим образом:\n",
        "\n",
        "$$\n",
        "w^t = w^{t-1} - \\eta \\nabla_{w} Q(w^{t-1}, X, y)\n",
        "$$\n",
        "\n",
        "Где $w^t$ — значение вектора весов на $t$-ой итерации, а $\\eta$ — параметр learning rate, отвечающий за размер шага."
      ]
    },
    {
      "cell_type": "markdown",
      "metadata": {
        "id": "i9gOWGzqBp0n"
      },
      "source": [
        "**Задание 1.2 (5/8 балла):** Реализуйте функцию `gradient_descent`\n",
        "\n",
        "Функция должна принимать на вход начальное значение весов линейной модели `w_init`, матрицу объектов-признаков `X`,\n",
        "вектор правильных ответов `y`, объект функции потерь `loss`, размер шага `lr` и количество итераций `n_iterations`.\n",
        "\n",
        "Функция должна реализовывать цикл, в котором происходит шаг градиентного спуска (градиенты берутся из `loss` посредством вызова метода `calc_grad`) по формуле выше и возвращать\n",
        "траекторию спуска (список из новых значений весов на каждом шаге)"
      ]
    },
    {
      "cell_type": "code",
      "execution_count": 5,
      "metadata": {
        "id": "Wxu_8RHkBp0o"
      },
      "outputs": [],
      "source": [
        "def gradient_descent(\n",
        "    w_init: np.ndarray,\n",
        "    X: np.ndarray,\n",
        "    y: np.ndarray,\n",
        "    loss: BaseLoss,\n",
        "    lr: float,\n",
        "    n_iterations: int = 100000,\n",
        ") -> List[np.ndarray]:\n",
        "    \"\"\"\n",
        "    Функция градиентного спуска\n",
        "    :param w_init: np.ndarray размера (n_feratures,) -- начальное значение вектора весов\n",
        "    :param X: np.ndarray размера (n_objects, n_features) -- матрица объекты-признаки\n",
        "    :param y: np.ndarray размера (n_objects,) -- вектор правильных ответов\n",
        "    :param loss: Объект подкласса BaseLoss, который умеет считать градиенты при помощи loss.calc_grad(X, y, w)\n",
        "    :param lr: float -- параметр величины шага, на который нужно домножать градиент\n",
        "    :param n_iterations: int -- сколько итераций делать\n",
        "    :return: Список из n_iterations объектов np.ndarray размера (n_features,) -- история весов на каждом шаге\n",
        "    \"\"\"\n",
        "    # -- YOUR CODE HERE --\n",
        "    weights_list = []\n",
        "    w_curr = w_init.copy()\n",
        "    weights_list.append(w_init)\n",
        "    for i in range(n_iterations):\n",
        "      grad = loss.calc_grad(X,y,w_curr)\n",
        "\n",
        "      w_curr = w_curr - grad * lr\n",
        "      # print('w_curr= ' ,w_curr)\n",
        "      weights_list.append(w_curr)\n",
        "      #print(weights_list)\n",
        "    return weights_list"
      ]
    },
    {
      "cell_type": "markdown",
      "metadata": {
        "id": "fM-gLeXPBp0o"
      },
      "source": [
        "Теперь создадим синтетический датасет и функцию, которая будет рисовать траекторию градиентного спуска по истории:"
      ]
    },
    {
      "cell_type": "code",
      "execution_count": 6,
      "metadata": {
        "id": "GgaCBMiDBp0o",
        "colab": {
          "base_uri": "https://localhost:8080/"
        },
        "outputId": "0b461a07-f9e5-4ac2-8b8f-15ae1e9f8eaa"
      },
      "outputs": [
        {
          "output_type": "stream",
          "name": "stdout",
          "text": [
            "(300, 2)\n",
            "(300,)\n"
          ]
        }
      ],
      "source": [
        "# Создаём датасет из двух переменных и реального вектора зависимости w_true\n",
        "\n",
        "np.random.seed(1337)\n",
        "\n",
        "n_features = 2\n",
        "n_objects = 300\n",
        "batch_size = 10\n",
        "num_steps = 43\n",
        "\n",
        "w_true = np.random.normal(size=(n_features,))\n",
        "\n",
        "X = np.random.uniform(-5, 5, (n_objects, n_features))\n",
        "X *= (np.arange(n_features) * 2 + 1)[np.newaxis, :]\n",
        "y = X.dot(w_true) + np.random.normal(0, 1, (n_objects))\n",
        "w_init = np.random.uniform(-2, 2, (n_features))\n",
        "\n",
        "print(X.shape)\n",
        "print(y.shape)"
      ]
    },
    {
      "cell_type": "code",
      "execution_count": 7,
      "metadata": {
        "id": "YCsiY4PBBp0o",
        "colab": {
          "base_uri": "https://localhost:8080/"
        },
        "outputId": "8c520f81-b5eb-406e-bb1d-319107dc57dd"
      },
      "outputs": [
        {
          "output_type": "stream",
          "name": "stdout",
          "text": [
            "425.5891768045025\n",
            "3.6811765186501777\n"
          ]
        }
      ],
      "source": [
        "loss = MSELoss()\n",
        "# print(\"w_init = \",w_init)\n",
        "w_list = gradient_descent(w_init, X, y, loss, 0.0001, 500)\n",
        "print(loss.calc_loss(X, y, w_list[0]))\n",
        "print(loss.calc_loss(X, y, w_list[-1]))"
      ]
    },
    {
      "cell_type": "code",
      "execution_count": 8,
      "metadata": {
        "id": "kZm3EqMwBp0p"
      },
      "outputs": [],
      "source": [
        "def plot_gd(w_list: Iterable, X: np.ndarray, y: np.ndarray, loss: BaseLoss):\n",
        "    \"\"\"\n",
        "    Функция для отрисовки траектории градиентного спуска\n",
        "    :param w_list: Список из объектов np.ndarray размера (n_features,) -- история весов на каждом шаге\n",
        "    :param X: np.ndarray размера (n_objects, n_features) -- матрица объекты-признаки\n",
        "    :param y: np.ndarray размера (n_objects,) -- вектор правильных ответов\n",
        "    :param loss: Объект подкласса BaseLoss, который умеет считать лосс при помощи loss.calc_loss(X, y, w)\n",
        "    \"\"\"\n",
        "    w_list = np.array(w_list)\n",
        "    meshgrid_space = np.linspace(-2, 2, 100)\n",
        "    A, B = np.meshgrid(meshgrid_space, meshgrid_space)\n",
        "\n",
        "    levels = np.empty_like(A)\n",
        "    for i in range(A.shape[0]):\n",
        "        for j in range(A.shape[1]):\n",
        "            w_tmp = np.array([A[i, j], B[i, j]])\n",
        "            levels[i, j] = loss.calc_loss(X, y, w_tmp)\n",
        "\n",
        "    plt.figure(figsize=(15, 6))\n",
        "    plt.title(\"GD trajectory\")\n",
        "    plt.xlabel(r\"$w_1$\")\n",
        "    plt.ylabel(r\"$w_2$\")\n",
        "    plt.xlim(w_list[:, 0].min() - 0.1, w_list[:, 0].max() + 0.1)\n",
        "    plt.ylim(w_list[:, 1].min() - 0.1, w_list[:, 1].max() + 0.1)\n",
        "    plt.gca().set_aspect(\"equal\")\n",
        "    # plt.xticks(np.arange(w_list[:, 0].min(), w_list[:, 0].max()+1, 1.0))\n",
        "\n",
        "    # visualize the level set\n",
        "    CS = plt.contour(\n",
        "        A, B, levels, levels=np.logspace(0, 1, num=20), cmap=plt.cm.rainbow_r\n",
        "    )\n",
        "    CB = plt.colorbar(CS, shrink=0.8, extend=\"both\")\n",
        "\n",
        "    # visualize trajectory\n",
        "    plt.scatter(w_true[0], w_true[1], c=\"r\")\n",
        "    plt.scatter(w_list[:, 0], w_list[:, 1])\n",
        "    plt.plot(w_list[:, 0], w_list[:, 1])\n",
        "\n",
        "    plt.show()"
      ]
    },
    {
      "cell_type": "markdown",
      "metadata": {
        "id": "JqufHS3PBp0p"
      },
      "source": [
        "**Задание 1.3 (5/8 балла):** При помощи функций `gradient_descent` и  `plot_gd` нарисуйте траекторию градиентного спуска для разных значений длины шага (параметра `lr`). Используйте не менее четырёх разных значений для `lr`.\n",
        "\n",
        "Сделайте и опишите свои выводы о том, как параметр `lr` влияет на поведение градиентного спуска\n",
        "\n",
        "Подсказки:\n",
        "* Функция `gradient_descent` возвращает историю весов, которую нужно подать в функцию `plot_gd`\n",
        "* Хорошие значения для `lr` могут лежать в промежутке от 0.0001 до 0.1"
      ]
    },
    {
      "cell_type": "code",
      "execution_count": 9,
      "metadata": {
        "id": "hPtpweFLBp0q",
        "colab": {
          "base_uri": "https://localhost:8080/",
          "height": 565
        },
        "outputId": "e8f9a3be-7079-40ee-cf1f-4ee83b85aa84"
      },
      "outputs": [
        {
          "output_type": "display_data",
          "data": {
            "text/plain": [
              "<Figure size 1500x600 with 2 Axes>"
            ],
            "image/png": "[encoded data removed]"
          },
          "metadata": {}
        }
      ],
      "source": [
        "plot_gd(w_list,X,y,loss)"
      ]
    },
    {
      "cell_type": "markdown",
      "metadata": {
        "id": "JdxxpTlSBp0q"
      },
      "source": [
        "Теперь реализуем стохастический градиентный спуск"
      ]
    },
    {
      "cell_type": "markdown",
      "metadata": {
        "id": "bNXcI8AqBp0q"
      },
      "source": [
        "**Задание 1.4 (5/8 балла):** Реализуйте функцию `stochastic_gradient_descent`\n",
        "\n",
        "Функция должна принимать все те же параметры, что и функция `gradient_descent`, но ещё параметр `batch_size`, отвечающий за размер батча.\n",
        "\n",
        "Функция должна как и раньше реализовывать цикл, в котором происходит шаг градиентного спуска, но на каждом шаге считать градиент не по всей выборке `X`, а только по случайно выбранной части.\n",
        "\n",
        "Подсказка: для выбора случайной части можно использовать [`np.random.choice`](https://numpy.org/doc/stable/reference/random/generated/numpy.random.choice.html) с правильным параметром `size`, чтобы выбрать случайные индексы, а потом проиндексировать получившимся массивом массив `X`:\n",
        "```\n",
        "batch_indices = np.random.choice(X.shape[0], size=batch_size, replace=False)\n",
        "batch = X[batch_indices]\n",
        "```"
      ]
    },
    {
      "cell_type": "code",
      "execution_count": 10,
      "metadata": {
        "id": "RNlOVmKLBp0q"
      },
      "outputs": [],
      "source": [
        "def stochastic_gradient_descent(\n",
        "    w_init: np.ndarray,\n",
        "    X: np.ndarray,\n",
        "    y: np.ndarray,\n",
        "    loss: BaseLoss,\n",
        "    lr: float,\n",
        "    batch_size: int,\n",
        "    n_iterations: int = 1000,\n",
        ") -> List[np.ndarray]:\n",
        "    \"\"\"\n",
        "    Функция градиентного спуска\n",
        "    :param w_init: np.ndarray размера (n_feratures,) -- начальное значение вектора весов\n",
        "    :param X: np.ndarray размера (n_objects, n_features) -- матрица объекты-признаки\n",
        "    :param y: np.ndarray размера (n_objects,) -- вектор правильных ответов\n",
        "    :param loss: Объект подкласса BaseLoss, который умеет считать градиенты при помощи loss.calc_grad(X, y, w)\n",
        "    :param lr: float -- параметр величины шага, на который нужно домножать градиент\n",
        "    :param batch_size: int -- размер подвыборки, которую нужно семплировать на каждом шаге\n",
        "    :param n_iterations: int -- сколько итераций делать\n",
        "    :return: Список из n_iterations объектов np.ndarray размера (n_features,) -- история весов на каждом шаге\n",
        "    \"\"\"\n",
        "    # -- YOUR CODE HERE --\n",
        "    batch_indices = np.random.choice(X.shape[0], size=batch_size, replace=False)\n",
        "    batch = X[batch_indices]\n",
        "    batch_y = y[batch_indices]\n",
        "    weights_list = []\n",
        "    w_curr = w_init.copy()\n",
        "    weights_list.append(w_init)\n",
        "    for i in range(n_iterations):\n",
        "      grad = loss.calc_grad(batch,batch_y,w_curr)\n",
        "\n",
        "      w_curr = w_curr - grad * lr\n",
        "      # print('w_curr= ' ,w_curr)\n",
        "      weights_list.append(w_curr)\n",
        "      #print(weights_list)\n",
        "    return weights_list"
      ]
    },
    {
      "cell_type": "markdown",
      "metadata": {
        "id": "OhnQEuAFBp0r"
      },
      "source": [
        "**Задание 1.5 (5/8 балла):** При помощи функций `stochastic_gradient_descent` и  `plot_gd` нарисуйте траекторию градиентного спуска для разных значений длины шага (параметра `lr`) и размера подвыборки (параметра `batch_size`). Используйте не менее четырёх разных значений для `lr` и `batch_size`.\n",
        "\n",
        "Сделайте и опишите свои выводы о том, как параметры  `lr` и `batch_size` влияют на поведение стохастического градиентного спуска. Как отличается поведение стохастического градиентного спуска от обычного?\n",
        "\n",
        "Обратите внимание, что в нашем датасете всего 300 объектов, так что `batch_size` больше этого числа не будет иметь смысла."
      ]
    },
    {
      "cell_type": "code",
      "source": [
        "w_list_sec = stochastic_gradient_descent(w_init, X, y, loss, 0.01,10, 400)\n"
      ],
      "metadata": {
        "id": "AuEaGwRONgvL"
      },
      "execution_count": 11,
      "outputs": []
    },
    {
      "cell_type": "code",
      "execution_count": 12,
      "metadata": {
        "id": "ysPrEpkjBp0r",
        "colab": {
          "base_uri": "https://localhost:8080/",
          "height": 565
        },
        "outputId": "fb37849a-1af6-4020-de71-01c5f752c1a7"
      },
      "outputs": [
        {
          "output_type": "display_data",
          "data": {
            "text/plain": [
              "<Figure size 1500x600 with 2 Axes>"
            ],
            "image/png": "[encoded data removed]"
          },
          "metadata": {}
        }
      ],
      "source": [
        "plot_gd(w_list_sec,X,y,loss)"
      ]
    },
    {
      "cell_type": "markdown",
      "metadata": {
        "id": "3ZWZE2VDBp0r"
      },
      "source": [
        "Вы могли заметить, что поведение градиентного спуска, особенно стохастической версии, очень сильно зависит от размера шага.\n",
        "\n",
        "Как правило, в начале спуска мы хотим делать большие шаги, чтобы поскорее подойти поближе к минимуму, а позже мы уже хотим делать шаги маленькие, чтобы более точнее этого минимума достичь и не \"перепрыгнуть\" его.\n",
        "\n",
        "Чтобы достичь такого поведения мы можем постепенно уменьшать длину шага с увеличением номера итерации. Сделать это можно, например, вычисляя на каждой итерации длину шага по следующей формуле:\n",
        "\n",
        "$$\n",
        "    \\eta_t\n",
        "    =\n",
        "    \\lambda\n",
        "    \\left(\n",
        "        \\frac{s_0}{s_0 + t}\n",
        "    \\right)^p\n",
        "$$\n",
        "\n",
        "где $\\eta_t$ — длина шага на итерации $t$, $\\lambda$ — начальная длина шага (параметр `lr` у нас), $s_0$ и $p$ — настраиваемые параметры."
      ]
    },
    {
      "cell_type": "markdown",
      "metadata": {
        "id": "9Hqj3zJ4Bp0r"
      },
      "source": [
        "**Задание 1.6 (5/8 балла):** Реализуйте функцию `stochastic_gradient_descent` на этот раз с затухающим шагом по формуле выше. Параметр $s_0$ возьмите равным 1. Параметр $p$ возьмите из нового аргумента функции `p`."
      ]
    },
    {
      "cell_type": "code",
      "execution_count": 13,
      "metadata": {
        "id": "7uL65tOmBp0r"
      },
      "outputs": [],
      "source": [
        "def stochastic_gradient_descent(\n",
        "    w_init: np.ndarray,\n",
        "    X: np.ndarray,\n",
        "    y: np.ndarray,\n",
        "    loss: BaseLoss,\n",
        "    lr: float,\n",
        "    batch_size: int,\n",
        "    p: float,\n",
        "    n_iterations: int = 1000,\n",
        ") -> List[np.ndarray]:\n",
        "    \"\"\"\n",
        "    Функция градиентного спуска\n",
        "    :param w_init: np.ndarray размера (n_feratures,) -- начальное значение вектора весов\n",
        "    :param X: np.ndarray размера (n_objects, n_features) -- матрица объекты-признаки\n",
        "    :param y: np.ndarray размера (n_objects,) -- вектор правильных ответов\n",
        "    :param loss: Объект подкласса BaseLoss, который умеет считать градиенты при помощи loss.calc_grad(X, y, w)\n",
        "    :param lr: float -- параметр величины шага, на который нужно домножать градиент\n",
        "    :param batch_size: int -- размер подвыборки, которую нужно семплировать на каждом шаге\n",
        "    :param p: float -- значение степени в формуле затухания длины шага\n",
        "    :param n_iterations: int -- сколько итераций делать\n",
        "    :return: Список из n_iterations объектов np.ndarray размера (n_features,) -- история весов на каждом шаге\n",
        "    \"\"\"\n",
        "    # -- YOUR CODE HERE --\n",
        "    batch_indices = np.random.choice(X.shape[0], size=batch_size, replace=False)\n",
        "    batch = X[batch_indices]\n",
        "    batch_y = y[batch_indices]\n",
        "    weights_list = []\n",
        "    w_curr = w_init.copy()\n",
        "    weights_list.append(w_init)\n",
        "    for i in range(n_iterations):\n",
        "      n=lr*(1/(1+lr))**p\n",
        "      grad = loss.calc_grad(batch,batch_y,w_curr)\n",
        "\n",
        "      w_curr = w_curr - grad * n\n",
        "      # print('w_curr= ' ,w_curr)\n",
        "      weights_list.append(w_curr)\n",
        "      #print(weights_list)\n",
        "    return weights_list"
      ]
    },
    {
      "cell_type": "markdown",
      "metadata": {
        "id": "IwgaqqB5Bp0r"
      },
      "source": [
        "**Задание 1.7 (5/8 балла):** При помощи новой функции `stochastic_gradient_descent` и функции `plot_gd` нарисуйте траекторию градиентного спуска для разных значений параметра `p`. Используйте не менее четырёх разных значений для `p`. Хорошими могут быть значения, лежащие в промежутке от 0.1 до 1.\n",
        "Параметр `lr` возьмите равным 0.01, а параметр `batch_size` равным 10.\n",
        "\n",
        "Сделайте и опишите свои выводы о том, как параметр `p` влияет на поведение стохастического градиентного спуска"
      ]
    },
    {
      "cell_type": "code",
      "source": [
        "w_list_sec_n = stochastic_gradient_descent(w_init, X, y, loss, 0.01,10,0.1, 400)"
      ],
      "metadata": {
        "id": "yOTOQ8_QQH3d"
      },
      "execution_count": 14,
      "outputs": []
    },
    {
      "cell_type": "code",
      "execution_count": 15,
      "metadata": {
        "id": "ri2bF6iCBp0s",
        "colab": {
          "base_uri": "https://localhost:8080/",
          "height": 565
        },
        "outputId": "2a7ac294-9fe0-4eed-f994-b48d9bce3714"
      },
      "outputs": [
        {
          "output_type": "display_data",
          "data": {
            "text/plain": [
              "<Figure size 1500x600 with 2 Axes>"
            ],
            "image/png": "[encoded data removed]"
          },
          "metadata": {}
        }
      ],
      "source": [
        "plot_gd(w_list_sec_n,X,y,loss)"
      ]
    },
    {
      "cell_type": "markdown",
      "metadata": {
        "id": "x0YKLC4mBp0s"
      },
      "source": [
        "**Задание 1.8 (5/8 балла):** Сравните сходимость обычного градиентного спуска и стохастичекой версии:\n",
        "Нарисуйте график зависимости значения лосса (его можно посчитать при помощи метода `calc_loss`, используя $x$ и $y$ из датасета и $w$ с соответствующей итерации) от номера итерации для траекторий, полученных при помощи обычного и стохастического градиентного спуска с одинаковыми параметрами. Параметр `batch_size` возьмите равным 10.\n",
        "\n",
        "Видно ли на данном графике преимущество SGD? Почему?"
      ]
    },
    {
      "cell_type": "code",
      "source": [
        "w_list_sec_n[0]"
      ],
      "metadata": {
        "colab": {
          "base_uri": "https://localhost:8080/"
        },
        "id": "ExdOdSFymgsw",
        "outputId": "cfa41aad-95fb-40db-9d59-2128bb425ed4"
      },
      "execution_count": 16,
      "outputs": [
        {
          "output_type": "execute_result",
          "data": {
            "text/plain": [
              "array([0.62074297, 1.79288146])"
            ]
          },
          "metadata": {},
          "execution_count": 16
        }
      ]
    },
    {
      "cell_type": "code",
      "execution_count": 17,
      "metadata": {
        "id": "O_f0qCQsBp0s"
      },
      "outputs": [],
      "source": [
        "# -- YOUR CODE HERE --\n",
        "gd = []\n",
        "sgd = []\n",
        "for i in range(len(w_list_sec_n)):\n",
        "  gd.append(loss.calc_loss(X,y,w_list[i]))\n",
        "  sgd.append(loss.calc_loss(X,y,w_list_sec[i]))"
      ]
    },
    {
      "cell_type": "code",
      "source": [
        "fig,ax =plt.subplots()\n",
        "ax.plot(np.arange(len(w_list_sec)),gd,color='r')\n",
        "ax.plot(np.arange(len(w_list_sec)),sgd,color='b')"
      ],
      "metadata": {
        "id": "Dq4laHtinRKv",
        "colab": {
          "base_uri": "https://localhost:8080/",
          "height": 447
        },
        "outputId": "32783899-8f0c-43dd-c834-6888da6c99c3"
      },
      "execution_count": 18,
      "outputs": [
        {
          "output_type": "execute_result",
          "data": {
            "text/plain": [
              "[<matplotlib.lines.Line2D at 0x7a248052d1e0>]"
            ]
          },
          "metadata": {},
          "execution_count": 18
        },
        {
          "output_type": "display_data",
          "data": {
            "text/plain": [
              "<Figure size 640x480 with 1 Axes>"
            ],
            "image/png": "[encoded data removed]"
          },
          "metadata": {}
        }
      ]
    },
    {
      "cell_type": "markdown",
      "metadata": {
        "id": "m7jS7bJUBp0s"
      },
      "source": [
        "## Часть 2. Линейная регрессия (5 баллов)"
      ]
    },
    {
      "cell_type": "markdown",
      "metadata": {
        "id": "HRrNZdJ7Bp0s"
      },
      "source": [
        "Теперь давайте напишем наш класс для линейной регрессии. Он будет использовать интерфейс, знакомый нам из библиотеки `sklearn`.\n",
        "\n",
        "В методе `fit` мы будем подбирать веса `w` при помощи градиентного спуска нашим методом `gradient_descent`\n",
        "\n",
        "В методе `predict` мы будем применять нашу регрессию к датасету,"
      ]
    },
    {
      "cell_type": "markdown",
      "metadata": {
        "id": "FyKvDkPOBp0s"
      },
      "source": [
        "**Задание 2.1 (5/8 балла):** Допишите код в методах `fit` и `predict` класса `LinearRegression`\n",
        "\n",
        "В методе `fit` вам нужно как-то инициализировать веса `w`, применить `gradient_descent` и сохранить последнюю `w` из траектории.\n",
        "\n",
        "В методе `predict` вам нужно применить линейную регрессию и вернуть вектор ответов.\n",
        "\n",
        "Обратите внимание, что объект лосса передаётся в момент инициализации и хранится в `self.loss`. Его нужно использовать в `fit` для `gradient_descent`."
      ]
    },
    {
      "cell_type": "code",
      "execution_count": 19,
      "metadata": {
        "id": "KdTk79QTBp0t"
      },
      "outputs": [],
      "source": [
        "class LinearRegression:\n",
        "    def __init__(self, loss: BaseLoss, lr: float = 0.1) -> None:\n",
        "        self.loss = loss\n",
        "        self.lr = lr\n",
        "\n",
        "    def fit(self, X: np.ndarray, y: np.ndarray) -> \"LinearRegression\":\n",
        "        X = np.asarray(X)\n",
        "        y = np.asarray(y)\n",
        "        # Добавляем столбец из единиц для константного признака\n",
        "        X = np.hstack([X, np.ones([X.shape[0], 1])])\n",
        "        w =  np.random.uniform(-2,2,X.shape[1])\n",
        "\n",
        "        self.w = gradient_descent(w,X,y,self.loss,self.lr,10000)[-1]\n",
        "        # print(gradient_descent(w,X,y,self.loss,0.001,400))\n",
        "        # -- YOUR CODE HERE --\n",
        "\n",
        "        return self\n",
        "\n",
        "    def predict(self, X: np.ndarray) -> np.ndarray:\n",
        "        # Проверяем, что регрессия обучена, то есть, что был вызван fit и в нём был установлен атрибут self.w\n",
        "        assert hasattr(self, \"w\"), \"Linear regression must be fitted first\"\n",
        "        # Добавляем столбец из единиц для константного признака\n",
        "        X = np.hstack([X, np.ones([X.shape[0], 1])])\n",
        "        # print(X,self.w)\n",
        "        return np.dot(X,self.w)\n",
        "\n",
        "        # -- YOUR CODE HERE --"
      ]
    },
    {
      "cell_type": "markdown",
      "metadata": {
        "id": "CV2RGHwgBp0t"
      },
      "source": [
        "Теперь у нас есть наш класс линейной регрессии. Более того, мы можем управлять тем, какую функцию потерь мы оптимизируем, просто передавая разные классы в параметр `loss` при инициализации.\n",
        "\n",
        "Пока у нас нет никаких классов кроме `MSELoss`, но скоро они появятся.\n",
        "\n",
        "Для `MSELoss` мы бы создавали наш объект линейной регрессии, например, так:"
      ]
    },
    {
      "cell_type": "code",
      "execution_count": 20,
      "metadata": {
        "id": "Cyfkw-L1Bp0t"
      },
      "outputs": [],
      "source": [
        "linear_regression = LinearRegression(MSELoss())"
      ]
    },
    {
      "cell_type": "markdown",
      "metadata": {
        "id": "kIG_P49YBp0t"
      },
      "source": [
        "Применим нашу регрессию на реальном датасете. Загрузим датасет с машинами, который был у вас на семинарах:"
      ]
    },
    {
      "cell_type": "code",
      "execution_count": 21,
      "metadata": {
        "id": "nJn0SUlnBp0t"
      },
      "outputs": [],
      "source": [
        "import pandas as pd\n",
        "\n",
        "X_raw = pd.read_csv(\n",
        "    \"http://archive.ics.uci.edu/ml/machine-learning-databases/autos/imports-85.data\",\n",
        "    header=None,\n",
        "    na_values=[\"?\"],\n",
        ")\n",
        "X_raw.head()\n",
        "X_raw = X_raw[~X_raw[25].isna()].reset_index()"
      ]
    },
    {
      "cell_type": "code",
      "source": [
        "X_raw.head()\n"
      ],
      "metadata": {
        "id": "T1MUrBYf-Apb",
        "colab": {
          "base_uri": "https://localhost:8080/",
          "height": 307
        },
        "outputId": "d179e26a-ea79-4e8c-8cc6-1838bf4e9d02"
      },
      "execution_count": 22,
      "outputs": [
        {
          "output_type": "execute_result",
          "data": {
            "text/plain": [
              "   index  0      1            2    3    4     5            6    7      8  ...  \\\n",
              "0      0  3    NaN  alfa-romero  gas  std   two  convertible  rwd  front  ...   \n",
              "1      1  3    NaN  alfa-romero  gas  std   two  convertible  rwd  front  ...   \n",
              "2      2  1    NaN  alfa-romero  gas  std   two    hatchback  rwd  front  ...   \n",
              "3      3  2  164.0         audi  gas  std  four        sedan  fwd  front  ...   \n",
              "4      4  2  164.0         audi  gas  std  four        sedan  4wd  front  ...   \n",
              "\n",
              "    16    17    18    19    20     21      22  23  24       25  \n",
              "0  130  mpfi  3.47  2.68   9.0  111.0  5000.0  21  27  13495.0  \n",
              "1  130  mpfi  3.47  2.68   9.0  111.0  5000.0  21  27  16500.0  \n",
              "2  152  mpfi  2.68  3.47   9.0  154.0  5000.0  19  26  16500.0  \n",
              "3  109  mpfi  3.19  3.40  10.0  102.0  5500.0  24  30  13950.0  \n",
              "4  136  mpfi  3.19  3.40   8.0  115.0  5500.0  18  22  17450.0  \n",
              "\n",
              "[5 rows x 27 columns]"
            ],
            "text/html": [
              "\n",
              "  <div id=\"df-13f9af67-08b8-466e-ac82-410f6cdbb469\" class=\"colab-df-container\">\n",
              "    <div>\n",
              "<style scoped>\n",
              "    .dataframe tbody tr th:only-of-type {\n",
              "        vertical-align: middle;\n",
              "    }\n",
              "\n",
              "    .dataframe tbody tr th {\n",
              "        vertical-align: top;\n",
              "    }\n",
              "\n",
              "    .dataframe thead th {\n",
              "        text-align: right;\n",
              "    }\n",
              "</style>\n",
              "<table border=\"1\" class=\"dataframe\">\n",
              "  <thead>\n",
              "    <tr style=\"text-align: right;\">\n",
              "      <th></th>\n",
              "      <th>index</th>\n",
              "      <th>0</th>\n",
              "      <th>1</th>\n",
              "      <th>2</th>\n",
              "      <th>3</th>\n",
              "      <th>4</th>\n",
              "      <th>5</th>\n",
              "      <th>6</th>\n",
              "      <th>7</th>\n",
              "      <th>8</th>\n",
              "      <th>...</th>\n",
              "      <th>16</th>\n",
              "      <th>17</th>\n",
              "      <th>18</th>\n",
              "      <th>19</th>\n",
              "      <th>20</th>\n",
              "      <th>21</th>\n",
              "      <th>22</th>\n",
              "      <th>23</th>\n",
              "      <th>24</th>\n",
              "      <th>25</th>\n",
              "    </tr>\n",
              "  </thead>\n",
              "  <tbody>\n",
              "    <tr>\n",
              "      <th>0</th>\n",
              "      <td>0</td>\n",
              "      <td>3</td>\n",
              "      <td>NaN</td>\n",
              "      <td>alfa-romero</td>\n",
              "      <td>gas</td>\n",
              "      <td>std</td>\n",
              "      <td>two</td>\n",
              "      <td>convertible</td>\n",
              "      <td>rwd</td>\n",
              "      <td>front</td>\n",
              "      <td>...</td>\n",
              "      <td>130</td>\n",
              "      <td>mpfi</td>\n",
              "      <td>3.47</td>\n",
              "      <td>2.68</td>\n",
              "      <td>9.0</td>\n",
              "      <td>111.0</td>\n",
              "      <td>5000.0</td>\n",
              "      <td>21</td>\n",
              "      <td>27</td>\n",
              "      <td>13495.0</td>\n",
              "    </tr>\n",
              "    <tr>\n",
              "      <th>1</th>\n",
              "      <td>1</td>\n",
              "      <td>3</td>\n",
              "      <td>NaN</td>\n",
              "      <td>alfa-romero</td>\n",
              "      <td>gas</td>\n",
              "      <td>std</td>\n",
              "      <td>two</td>\n",
              "      <td>convertible</td>\n",
              "      <td>rwd</td>\n",
              "      <td>front</td>\n",
              "      <td>...</td>\n",
              "      <td>130</td>\n",
              "      <td>mpfi</td>\n",
              "      <td>3.47</td>\n",
              "      <td>2.68</td>\n",
              "      <td>9.0</td>\n",
              "      <td>111.0</td>\n",
              "      <td>5000.0</td>\n",
              "      <td>21</td>\n",
              "      <td>27</td>\n",
              "      <td>16500.0</td>\n",
              "    </tr>\n",
              "    <tr>\n",
              "      <th>2</th>\n",
              "      <td>2</td>\n",
              "      <td>1</td>\n",
              "      <td>NaN</td>\n",
              "      <td>alfa-romero</td>\n",
              "      <td>gas</td>\n",
              "      <td>std</td>\n",
              "      <td>two</td>\n",
              "      <td>hatchback</td>\n",
              "      <td>rwd</td>\n",
              "      <td>front</td>\n",
              "      <td>...</td>\n",
              "      <td>152</td>\n",
              "      <td>mpfi</td>\n",
              "      <td>2.68</td>\n",
              "      <td>3.47</td>\n",
              "      <td>9.0</td>\n",
              "      <td>154.0</td>\n",
              "      <td>5000.0</td>\n",
              "      <td>19</td>\n",
              "      <td>26</td>\n",
              "      <td>16500.0</td>\n",
              "    </tr>\n",
              "    <tr>\n",
              "      <th>3</th>\n",
              "      <td>3</td>\n",
              "      <td>2</td>\n",
              "      <td>164.0</td>\n",
              "      <td>audi</td>\n",
              "      <td>gas</td>\n",
              "      <td>std</td>\n",
              "      <td>four</td>\n",
              "      <td>sedan</td>\n",
              "      <td>fwd</td>\n",
              "      <td>front</td>\n",
              "      <td>...</td>\n",
              "      <td>109</td>\n",
              "      <td>mpfi</td>\n",
              "      <td>3.19</td>\n",
              "      <td>3.40</td>\n",
              "      <td>10.0</td>\n",
              "      <td>102.0</td>\n",
              "      <td>5500.0</td>\n",
              "      <td>24</td>\n",
              "      <td>30</td>\n",
              "      <td>13950.0</td>\n",
              "    </tr>\n",
              "    <tr>\n",
              "      <th>4</th>\n",
              "      <td>4</td>\n",
              "      <td>2</td>\n",
              "      <td>164.0</td>\n",
              "      <td>audi</td>\n",
              "      <td>gas</td>\n",
              "      <td>std</td>\n",
              "      <td>four</td>\n",
              "      <td>sedan</td>\n",
              "      <td>4wd</td>\n",
              "      <td>front</td>\n",
              "      <td>...</td>\n",
              "      <td>136</td>\n",
              "      <td>mpfi</td>\n",
              "      <td>3.19</td>\n",
              "      <td>3.40</td>\n",
              "      <td>8.0</td>\n",
              "      <td>115.0</td>\n",
              "      <td>5500.0</td>\n",
              "      <td>18</td>\n",
              "      <td>22</td>\n",
              "      <td>17450.0</td>\n",
              "    </tr>\n",
              "  </tbody>\n",
              "</table>\n",
              "<p>5 rows × 27 columns</p>\n",
              "</div>\n",
              "    <div class=\"colab-df-buttons\">\n",
              "\n",
              "  <div class=\"colab-df-container\">\n",
              "    <button class=\"colab-df-convert\" onclick=\"convertToInteractive('df-13f9af67-08b8-466e-ac82-410f6cdbb469')\"\n",
              "            title=\"Convert this dataframe to an interactive table.\"\n",
              "            style=\"display:none;\">\n",
              "\n",
              "  <svg xmlns=\"http://www.w3.org/2000/svg\" height=\"24px\" viewBox=\"0 -960 960 960\">\n",
              "    <path d=\"M120-120v-720h720v720H120Zm60-500h600v-160H180v160Zm220 220h160v-160H400v160Zm0 220h160v-160H400v160ZM180-400h160v-160H180v160Zm440 0h160v-160H620v160ZM180-180h160v-160H180v160Zm440 0h160v-160H620v160Z\"/>\n",
              "  </svg>\n",
              "    </button>\n",
              "\n",
              "  <style>\n",
              "    .colab-df-container {\n",
              "      display:flex;\n",
              "      gap: 12px;\n",
              "    }\n",
              "\n",
              "    .colab-df-convert {\n",
              "      background-color: #E8F0FE;\n",
              "      border: none;\n",
              "      border-radius: 50%;\n",
              "      cursor: pointer;\n",
              "      display: none;\n",
              "      fill: #1967D2;\n",
              "      height: 32px;\n",
              "      padding: 0 0 0 0;\n",
              "      width: 32px;\n",
              "    }\n",
              "\n",
              "    .colab-df-convert:hover {\n",
              "      background-color: #E2EBFA;\n",
              "      box-shadow: 0px 1px 2px rgba(60, 64, 67, 0.3), 0px 1px 3px 1px rgba(60, 64, 67, 0.15);\n",
              "      fill: #174EA6;\n",
              "    }\n",
              "\n",
              "    .colab-df-buttons div {\n",
              "      margin-bottom: 4px;\n",
              "    }\n",
              "\n",
              "    [theme=dark] .colab-df-convert {\n",
              "      background-color: #3B4455;\n",
              "      fill: #D2E3FC;\n",
              "    }\n",
              "\n",
              "    [theme=dark] .colab-df-convert:hover {\n",
              "      background-color: #434B5C;\n",
              "      box-shadow: 0px 1px 3px 1px rgba(0, 0, 0, 0.15);\n",
              "      filter: drop-shadow(0px 1px 2px rgba(0, 0, 0, 0.3));\n",
              "      fill: #FFFFFF;\n",
              "    }\n",
              "  </style>\n",
              "\n",
              "    <script>\n",
              "      const buttonEl =\n",
              "        document.querySelector('#df-13f9af67-08b8-466e-ac82-410f6cdbb469 button.colab-df-convert');\n",
              "      buttonEl.style.display =\n",
              "        google.colab.kernel.accessAllowed ? 'block' : 'none';\n",
              "\n",
              "      async function convertToInteractive(key) {\n",
              "        const element = document.querySelector('#df-13f9af67-08b8-466e-ac82-410f6cdbb469');\n",
              "        const dataTable =\n",
              "          await google.colab.kernel.invokeFunction('convertToInteractive',\n",
              "                                                    [key], {});\n",
              "        if (!dataTable) return;\n",
              "\n",
              "        const docLinkHtml = 'Like what you see? Visit the ' +\n",
              "          '<a target=\"_blank\" href=https://colab.research.google.com/notebooks/data_table.ipynb>data table notebook</a>'\n",
              "          + ' to learn more about interactive tables.';\n",
              "        element.innerHTML = '';\n",
              "        dataTable['output_type'] = 'display_data';\n",
              "        await google.colab.output.renderOutput(dataTable, element);\n",
              "        const docLink = document.createElement('div');\n",
              "        docLink.innerHTML = docLinkHtml;\n",
              "        element.appendChild(docLink);\n",
              "      }\n",
              "    </script>\n",
              "  </div>\n",
              "\n",
              "\n",
              "<div id=\"df-7f6d89e5-f72d-406d-9724-72dc5eb4a812\">\n",
              "  <button class=\"colab-df-quickchart\" onclick=\"quickchart('df-7f6d89e5-f72d-406d-9724-72dc5eb4a812')\"\n",
              "            title=\"Suggest charts\"\n",
              "            style=\"display:none;\">\n",
              "\n",
              "<svg xmlns=\"http://www.w3.org/2000/svg\" height=\"24px\"viewBox=\"0 0 24 24\"\n",
              "     width=\"24px\">\n",
              "    <g>\n",
              "        <path d=\"M19 3H5c-1.1 0-2 .9-2 2v14c0 1.1.9 2 2 2h14c1.1 0 2-.9 2-2V5c0-1.1-.9-2-2-2zM9 17H7v-7h2v7zm4 0h-2V7h2v10zm4 0h-2v-4h2v4z\"/>\n",
              "    </g>\n",
              "</svg>\n",
              "  </button>\n",
              "\n",
              "<style>\n",
              "  .colab-df-quickchart {\n",
              "      --bg-color: #E8F0FE;\n",
              "      --fill-color: #1967D2;\n",
              "      --hover-bg-color: #E2EBFA;\n",
              "      --hover-fill-color: #174EA6;\n",
              "      --disabled-fill-color: #AAA;\n",
              "      --disabled-bg-color: #DDD;\n",
              "  }\n",
              "\n",
              "  [theme=dark] .colab-df-quickchart {\n",
              "      --bg-color: #3B4455;\n",
              "      --fill-color: #D2E3FC;\n",
              "      --hover-bg-color: #434B5C;\n",
              "      --hover-fill-color: #FFFFFF;\n",
              "      --disabled-bg-color: #3B4455;\n",
              "      --disabled-fill-color: #666;\n",
              "  }\n",
              "\n",
              "  .colab-df-quickchart {\n",
              "    background-color: var(--bg-color);\n",
              "    border: none;\n",
              "    border-radius: 50%;\n",
              "    cursor: pointer;\n",
              "    display: none;\n",
              "    fill: var(--fill-color);\n",
              "    height: 32px;\n",
              "    padding: 0;\n",
              "    width: 32px;\n",
              "  }\n",
              "\n",
              "  .colab-df-quickchart:hover {\n",
              "    background-color: var(--hover-bg-color);\n",
              "    box-shadow: 0 1px 2px rgba(60, 64, 67, 0.3), 0 1px 3px 1px rgba(60, 64, 67, 0.15);\n",
              "    fill: var(--button-hover-fill-color);\n",
              "  }\n",
              "\n",
              "  .colab-df-quickchart-complete:disabled,\n",
              "  .colab-df-quickchart-complete:disabled:hover {\n",
              "    background-color: var(--disabled-bg-color);\n",
              "    fill: var(--disabled-fill-color);\n",
              "    box-shadow: none;\n",
              "  }\n",
              "\n",
              "  .colab-df-spinner {\n",
              "    border: 2px solid var(--fill-color);\n",
              "    border-color: transparent;\n",
              "    border-bottom-color: var(--fill-color);\n",
              "    animation:\n",
              "      spin 1s steps(1) infinite;\n",
              "  }\n",
              "\n",
              "  @keyframes spin {\n",
              "    0% {\n",
              "      border-color: transparent;\n",
              "      border-bottom-color: var(--fill-color);\n",
              "      border-left-color: var(--fill-color);\n",
              "    }\n",
              "    20% {\n",
              "      border-color: transparent;\n",
              "      border-left-color: var(--fill-color);\n",
              "      border-top-color: var(--fill-color);\n",
              "    }\n",
              "    30% {\n",
              "      border-color: transparent;\n",
              "      border-left-color: var(--fill-color);\n",
              "      border-top-color: var(--fill-color);\n",
              "      border-right-color: var(--fill-color);\n",
              "    }\n",
              "    40% {\n",
              "      border-color: transparent;\n",
              "      border-right-color: var(--fill-color);\n",
              "      border-top-color: var(--fill-color);\n",
              "    }\n",
              "    60% {\n",
              "      border-color: transparent;\n",
              "      border-right-color: var(--fill-color);\n",
              "    }\n",
              "    80% {\n",
              "      border-color: transparent;\n",
              "      border-right-color: var(--fill-color);\n",
              "      border-bottom-color: var(--fill-color);\n",
              "    }\n",
              "    90% {\n",
              "      border-color: transparent;\n",
              "      border-bottom-color: var(--fill-color);\n",
              "    }\n",
              "  }\n",
              "</style>\n",
              "\n",
              "  <script>\n",
              "    async function quickchart(key) {\n",
              "      const quickchartButtonEl =\n",
              "        document.querySelector('#' + key + ' button');\n",
              "      quickchartButtonEl.disabled = true;  // To prevent multiple clicks.\n",
              "      quickchartButtonEl.classList.add('colab-df-spinner');\n",
              "      try {\n",
              "        const charts = await google.colab.kernel.invokeFunction(\n",
              "            'suggestCharts', [key], {});\n",
              "      } catch (error) {\n",
              "        console.error('Error during call to suggestCharts:', error);\n",
              "      }\n",
              "      quickchartButtonEl.classList.remove('colab-df-spinner');\n",
              "      quickchartButtonEl.classList.add('colab-df-quickchart-complete');\n",
              "    }\n",
              "    (() => {\n",
              "      let quickchartButtonEl =\n",
              "        document.querySelector('#df-7f6d89e5-f72d-406d-9724-72dc5eb4a812 button');\n",
              "      quickchartButtonEl.style.display =\n",
              "        google.colab.kernel.accessAllowed ? 'block' : 'none';\n",
              "    })();\n",
              "  </script>\n",
              "</div>\n",
              "    </div>\n",
              "  </div>\n"
            ],
            "application/vnd.google.colaboratory.intrinsic+json": {
              "type": "dataframe",
              "variable_name": "X_raw"
            }
          },
          "metadata": {},
          "execution_count": 22
        }
      ]
    },
    {
      "cell_type": "code",
      "source": [
        "X_raw.columns = X_raw.columns.astype(str)\n"
      ],
      "metadata": {
        "id": "8lE7JhUzE7XU"
      },
      "execution_count": 23,
      "outputs": []
    },
    {
      "cell_type": "code",
      "source": [
        "X_raw['1'] = X_raw['1'].fillna(X_raw[\"1\"].mean())"
      ],
      "metadata": {
        "id": "wkOGd5BMFJVO"
      },
      "execution_count": 24,
      "outputs": []
    },
    {
      "cell_type": "code",
      "source": [
        "X_raw.isnull().any().any()"
      ],
      "metadata": {
        "colab": {
          "base_uri": "https://localhost:8080/"
        },
        "id": "wLS4NA55FarJ",
        "outputId": "a8fb257c-5368-4119-9e01-d0bb8830a61f"
      },
      "execution_count": 25,
      "outputs": [
        {
          "output_type": "execute_result",
          "data": {
            "text/plain": [
              "True"
            ]
          },
          "metadata": {},
          "execution_count": 25
        }
      ]
    },
    {
      "cell_type": "code",
      "source": [
        "X_raw=X_raw.ffill()"
      ],
      "metadata": {
        "id": "3FdcNcUkInmg"
      },
      "execution_count": 26,
      "outputs": []
    },
    {
      "cell_type": "code",
      "source": [
        "X_raw = pd.get_dummies(X_raw)\n"
      ],
      "metadata": {
        "id": "Evad1xCEHz5m"
      },
      "execution_count": 27,
      "outputs": []
    },
    {
      "cell_type": "code",
      "source": [],
      "metadata": {
        "id": "oLdAQI-RJGDr"
      },
      "execution_count": 27,
      "outputs": []
    },
    {
      "cell_type": "code",
      "execution_count": 28,
      "metadata": {
        "id": "_KcER5JtBp0u"
      },
      "outputs": [],
      "source": [
        "y = X_raw['25']\n",
        "X_raw = X_raw.drop('25', axis=1)"
      ]
    },
    {
      "cell_type": "code",
      "source": [
        "from sklearn.model_selection import train_test_split\n",
        "X_train, X_test, y_train, y_test = train_test_split(\n",
        "    X_raw, y, test_size=0.3, random_state=42)"
      ],
      "metadata": {
        "id": "_i412juBK6kL"
      },
      "execution_count": 29,
      "outputs": []
    },
    {
      "cell_type": "code",
      "source": [
        "from sklearn.preprocessing import MinMaxScaler\n",
        "scaler = MinMaxScaler()\n",
        "scaler.fit(X_train)\n",
        "X_train = pd.DataFrame(scaler.transform(X_train))\n",
        "X_test = pd.DataFrame(scaler.transform(X_test))"
      ],
      "metadata": {
        "id": "QHoLJI2eJ0hs"
      },
      "execution_count": 30,
      "outputs": []
    },
    {
      "cell_type": "code",
      "source": [
        "X_train"
      ],
      "metadata": {
        "id": "r7lufKcKLJlO",
        "colab": {
          "base_uri": "https://localhost:8080/",
          "height": 443
        },
        "outputId": "5c474603-b8a7-475f-cc12-1dbeab1ec54a"
      },
      "execution_count": 31,
      "outputs": [
        {
          "output_type": "execute_result",
          "data": {
            "text/plain": [
              "           0    1         2         3         4         5         6   \\\n",
              "0    0.490196  0.4  0.214660  0.270769  0.482090  0.418803  0.575000   \n",
              "1    0.156863  0.6  0.188482  0.163077  0.132836  0.316239  0.400000   \n",
              "2    0.063725  0.4  0.643979  0.393846  0.532836  0.384615  0.541667   \n",
              "3    0.176471  0.4  0.068063  0.249231  0.238806  0.307692  0.875000   \n",
              "4    0.598039  0.6  0.465969  0.163077  0.391045  0.299145  0.250000   \n",
              "..        ...  ...       ...       ...       ...       ...       ...   \n",
              "135  0.534314  0.4  0.298429  0.793846  0.862687  0.692308  0.908333   \n",
              "136  0.073529  0.4  0.298429  0.464615  0.714925  0.564103  0.658333   \n",
              "137  0.465686  0.6  0.329843  0.187692  0.365672  0.299145  0.458333   \n",
              "138  0.897059  0.8  0.298429  0.273846  0.456716  0.444444  0.658333   \n",
              "139  0.514706  1.0  0.675393  0.089231  0.441791  0.649573  0.158333   \n",
              "\n",
              "           7         8         9   ...   65   66   67   68   69   70   71  \\\n",
              "0    0.315749  0.222642  0.626984  ...  0.0  0.0  0.0  1.0  0.0  0.0  0.0   \n",
              "1    0.135376  0.067925  0.293651  ...  0.0  0.0  1.0  0.0  0.0  0.0  0.0   \n",
              "2    0.495345  0.388679  0.611111  ...  0.0  0.0  0.0  0.0  0.0  0.0  0.0   \n",
              "3    0.207913  0.116981  0.301587  ...  0.0  0.0  1.0  0.0  0.0  0.0  0.0   \n",
              "4    0.272692  0.139623  0.341270  ...  0.0  0.0  0.0  1.0  0.0  0.0  0.0   \n",
              "..        ...       ...       ...  ...  ...  ...  ...  ...  ...  ...  ...   \n",
              "135  0.675718  0.222642  0.730159  ...  0.0  0.0  0.0  0.0  0.0  0.0  0.0   \n",
              "136  0.675718  0.558491  0.857143  ...  0.0  0.0  0.0  0.0  0.0  0.0  0.0   \n",
              "137  0.209465  0.135849  0.484127  ...  0.0  0.0  0.0  1.0  0.0  0.0  0.0   \n",
              "138  0.279674  0.181132  0.515873  ...  0.0  0.0  0.0  0.0  0.0  0.0  0.0   \n",
              "139  0.640419  0.452830  0.706349  ...  0.0  0.0  0.0  0.0  0.0  0.0  0.0   \n",
              "\n",
              "      72   73   74  \n",
              "0    0.0  0.0  0.0  \n",
              "1    0.0  0.0  0.0  \n",
              "2    1.0  0.0  0.0  \n",
              "3    0.0  0.0  0.0  \n",
              "4    0.0  0.0  0.0  \n",
              "..   ...  ...  ...  \n",
              "135  1.0  0.0  0.0  \n",
              "136  1.0  0.0  0.0  \n",
              "137  0.0  0.0  0.0  \n",
              "138  1.0  0.0  0.0  \n",
              "139  1.0  0.0  0.0  \n",
              "\n",
              "[140 rows x 75 columns]"
            ],
            "text/html": [
              "\n",
              "  <div id=\"df-aa475a26-8c71-4dc5-9f37-c662b3a269ac\" class=\"colab-df-container\">\n",
              "    <div>\n",
              "<style scoped>\n",
              "    .dataframe tbody tr th:only-of-type {\n",
              "        vertical-align: middle;\n",
              "    }\n",
              "\n",
              "    .dataframe tbody tr th {\n",
              "        vertical-align: top;\n",
              "    }\n",
              "\n",
              "    .dataframe thead th {\n",
              "        text-align: right;\n",
              "    }\n",
              "</style>\n",
              "<table border=\"1\" class=\"dataframe\">\n",
              "  <thead>\n",
              "    <tr style=\"text-align: right;\">\n",
              "      <th></th>\n",
              "      <th>0</th>\n",
              "      <th>1</th>\n",
              "      <th>2</th>\n",
              "      <th>3</th>\n",
              "      <th>4</th>\n",
              "      <th>5</th>\n",
              "      <th>6</th>\n",
              "      <th>7</th>\n",
              "      <th>8</th>\n",
              "      <th>9</th>\n",
              "      <th>...</th>\n",
              "      <th>65</th>\n",
              "      <th>66</th>\n",
              "      <th>67</th>\n",
              "      <th>68</th>\n",
              "      <th>69</th>\n",
              "      <th>70</th>\n",
              "      <th>71</th>\n",
              "      <th>72</th>\n",
              "      <th>73</th>\n",
              "      <th>74</th>\n",
              "    </tr>\n",
              "  </thead>\n",
              "  <tbody>\n",
              "    <tr>\n",
              "      <th>0</th>\n",
              "      <td>0.490196</td>\n",
              "      <td>0.4</td>\n",
              "      <td>0.214660</td>\n",
              "      <td>0.270769</td>\n",
              "      <td>0.482090</td>\n",
              "      <td>0.418803</td>\n",
              "      <td>0.575000</td>\n",
              "      <td>0.315749</td>\n",
              "      <td>0.222642</td>\n",
              "      <td>0.626984</td>\n",
              "      <td>...</td>\n",
              "      <td>0.0</td>\n",
              "      <td>0.0</td>\n",
              "      <td>0.0</td>\n",
              "      <td>1.0</td>\n",
              "      <td>0.0</td>\n",
              "      <td>0.0</td>\n",
              "      <td>0.0</td>\n",
              "      <td>0.0</td>\n",
              "      <td>0.0</td>\n",
              "      <td>0.0</td>\n",
              "    </tr>\n",
              "    <tr>\n",
              "      <th>1</th>\n",
              "      <td>0.156863</td>\n",
              "      <td>0.6</td>\n",
              "      <td>0.188482</td>\n",
              "      <td>0.163077</td>\n",
              "      <td>0.132836</td>\n",
              "      <td>0.316239</td>\n",
              "      <td>0.400000</td>\n",
              "      <td>0.135376</td>\n",
              "      <td>0.067925</td>\n",
              "      <td>0.293651</td>\n",
              "      <td>...</td>\n",
              "      <td>0.0</td>\n",
              "      <td>0.0</td>\n",
              "      <td>1.0</td>\n",
              "      <td>0.0</td>\n",
              "      <td>0.0</td>\n",
              "      <td>0.0</td>\n",
              "      <td>0.0</td>\n",
              "      <td>0.0</td>\n",
              "      <td>0.0</td>\n",
              "      <td>0.0</td>\n",
              "    </tr>\n",
              "    <tr>\n",
              "      <th>2</th>\n",
              "      <td>0.063725</td>\n",
              "      <td>0.4</td>\n",
              "      <td>0.643979</td>\n",
              "      <td>0.393846</td>\n",
              "      <td>0.532836</td>\n",
              "      <td>0.384615</td>\n",
              "      <td>0.541667</td>\n",
              "      <td>0.495345</td>\n",
              "      <td>0.388679</td>\n",
              "      <td>0.611111</td>\n",
              "      <td>...</td>\n",
              "      <td>0.0</td>\n",
              "      <td>0.0</td>\n",
              "      <td>0.0</td>\n",
              "      <td>0.0</td>\n",
              "      <td>0.0</td>\n",
              "      <td>0.0</td>\n",
              "      <td>0.0</td>\n",
              "      <td>1.0</td>\n",
              "      <td>0.0</td>\n",
              "      <td>0.0</td>\n",
              "    </tr>\n",
              "    <tr>\n",
              "      <th>3</th>\n",
              "      <td>0.176471</td>\n",
              "      <td>0.4</td>\n",
              "      <td>0.068063</td>\n",
              "      <td>0.249231</td>\n",
              "      <td>0.238806</td>\n",
              "      <td>0.307692</td>\n",
              "      <td>0.875000</td>\n",
              "      <td>0.207913</td>\n",
              "      <td>0.116981</td>\n",
              "      <td>0.301587</td>\n",
              "      <td>...</td>\n",
              "      <td>0.0</td>\n",
              "      <td>0.0</td>\n",
              "      <td>1.0</td>\n",
              "      <td>0.0</td>\n",
              "      <td>0.0</td>\n",
              "      <td>0.0</td>\n",
              "      <td>0.0</td>\n",
              "      <td>0.0</td>\n",
              "      <td>0.0</td>\n",
              "      <td>0.0</td>\n",
              "    </tr>\n",
              "    <tr>\n",
              "      <th>4</th>\n",
              "      <td>0.598039</td>\n",
              "      <td>0.6</td>\n",
              "      <td>0.465969</td>\n",
              "      <td>0.163077</td>\n",
              "      <td>0.391045</td>\n",
              "      <td>0.299145</td>\n",
              "      <td>0.250000</td>\n",
              "      <td>0.272692</td>\n",
              "      <td>0.139623</td>\n",
              "      <td>0.341270</td>\n",
              "      <td>...</td>\n",
              "      <td>0.0</td>\n",
              "      <td>0.0</td>\n",
              "      <td>0.0</td>\n",
              "      <td>1.0</td>\n",
              "      <td>0.0</td>\n",
              "      <td>0.0</td>\n",
              "      <td>0.0</td>\n",
              "      <td>0.0</td>\n",
              "      <td>0.0</td>\n",
              "      <td>0.0</td>\n",
              "    </tr>\n",
              "    <tr>\n",
              "      <th>...</th>\n",
              "      <td>...</td>\n",
              "      <td>...</td>\n",
              "      <td>...</td>\n",
              "      <td>...</td>\n",
              "      <td>...</td>\n",
              "      <td>...</td>\n",
              "      <td>...</td>\n",
              "      <td>...</td>\n",
              "      <td>...</td>\n",
              "      <td>...</td>\n",
              "      <td>...</td>\n",
              "      <td>...</td>\n",
              "      <td>...</td>\n",
              "      <td>...</td>\n",
              "      <td>...</td>\n",
              "      <td>...</td>\n",
              "      <td>...</td>\n",
              "      <td>...</td>\n",
              "      <td>...</td>\n",
              "      <td>...</td>\n",
              "      <td>...</td>\n",
              "    </tr>\n",
              "    <tr>\n",
              "      <th>135</th>\n",
              "      <td>0.534314</td>\n",
              "      <td>0.4</td>\n",
              "      <td>0.298429</td>\n",
              "      <td>0.793846</td>\n",
              "      <td>0.862687</td>\n",
              "      <td>0.692308</td>\n",
              "      <td>0.908333</td>\n",
              "      <td>0.675718</td>\n",
              "      <td>0.222642</td>\n",
              "      <td>0.730159</td>\n",
              "      <td>...</td>\n",
              "      <td>0.0</td>\n",
              "      <td>0.0</td>\n",
              "      <td>0.0</td>\n",
              "      <td>0.0</td>\n",
              "      <td>0.0</td>\n",
              "      <td>0.0</td>\n",
              "      <td>0.0</td>\n",
              "      <td>1.0</td>\n",
              "      <td>0.0</td>\n",
              "      <td>0.0</td>\n",
              "    </tr>\n",
              "    <tr>\n",
              "      <th>136</th>\n",
              "      <td>0.073529</td>\n",
              "      <td>0.4</td>\n",
              "      <td>0.298429</td>\n",
              "      <td>0.464615</td>\n",
              "      <td>0.714925</td>\n",
              "      <td>0.564103</td>\n",
              "      <td>0.658333</td>\n",
              "      <td>0.675718</td>\n",
              "      <td>0.558491</td>\n",
              "      <td>0.857143</td>\n",
              "      <td>...</td>\n",
              "      <td>0.0</td>\n",
              "      <td>0.0</td>\n",
              "      <td>0.0</td>\n",
              "      <td>0.0</td>\n",
              "      <td>0.0</td>\n",
              "      <td>0.0</td>\n",
              "      <td>0.0</td>\n",
              "      <td>1.0</td>\n",
              "      <td>0.0</td>\n",
              "      <td>0.0</td>\n",
              "    </tr>\n",
              "    <tr>\n",
              "      <th>137</th>\n",
              "      <td>0.465686</td>\n",
              "      <td>0.6</td>\n",
              "      <td>0.329843</td>\n",
              "      <td>0.187692</td>\n",
              "      <td>0.365672</td>\n",
              "      <td>0.299145</td>\n",
              "      <td>0.458333</td>\n",
              "      <td>0.209465</td>\n",
              "      <td>0.135849</td>\n",
              "      <td>0.484127</td>\n",
              "      <td>...</td>\n",
              "      <td>0.0</td>\n",
              "      <td>0.0</td>\n",
              "      <td>0.0</td>\n",
              "      <td>1.0</td>\n",
              "      <td>0.0</td>\n",
              "      <td>0.0</td>\n",
              "      <td>0.0</td>\n",
              "      <td>0.0</td>\n",
              "      <td>0.0</td>\n",
              "      <td>0.0</td>\n",
              "    </tr>\n",
              "    <tr>\n",
              "      <th>138</th>\n",
              "      <td>0.897059</td>\n",
              "      <td>0.8</td>\n",
              "      <td>0.298429</td>\n",
              "      <td>0.273846</td>\n",
              "      <td>0.456716</td>\n",
              "      <td>0.444444</td>\n",
              "      <td>0.658333</td>\n",
              "      <td>0.279674</td>\n",
              "      <td>0.181132</td>\n",
              "      <td>0.515873</td>\n",
              "      <td>...</td>\n",
              "      <td>0.0</td>\n",
              "      <td>0.0</td>\n",
              "      <td>0.0</td>\n",
              "      <td>0.0</td>\n",
              "      <td>0.0</td>\n",
              "      <td>0.0</td>\n",
              "      <td>0.0</td>\n",
              "      <td>1.0</td>\n",
              "      <td>0.0</td>\n",
              "      <td>0.0</td>\n",
              "    </tr>\n",
              "    <tr>\n",
              "      <th>139</th>\n",
              "      <td>0.514706</td>\n",
              "      <td>1.0</td>\n",
              "      <td>0.675393</td>\n",
              "      <td>0.089231</td>\n",
              "      <td>0.441791</td>\n",
              "      <td>0.649573</td>\n",
              "      <td>0.158333</td>\n",
              "      <td>0.640419</td>\n",
              "      <td>0.452830</td>\n",
              "      <td>0.706349</td>\n",
              "      <td>...</td>\n",
              "      <td>0.0</td>\n",
              "      <td>0.0</td>\n",
              "      <td>0.0</td>\n",
              "      <td>0.0</td>\n",
              "      <td>0.0</td>\n",
              "      <td>0.0</td>\n",
              "      <td>0.0</td>\n",
              "      <td>1.0</td>\n",
              "      <td>0.0</td>\n",
              "      <td>0.0</td>\n",
              "    </tr>\n",
              "  </tbody>\n",
              "</table>\n",
              "<p>140 rows × 75 columns</p>\n",
              "</div>\n",
              "    <div class=\"colab-df-buttons\">\n",
              "\n",
              "  <div class=\"colab-df-container\">\n",
              "    <button class=\"colab-df-convert\" onclick=\"convertToInteractive('df-aa475a26-8c71-4dc5-9f37-c662b3a269ac')\"\n",
              "            title=\"Convert this dataframe to an interactive table.\"\n",
              "            style=\"display:none;\">\n",
              "\n",
              "  <svg xmlns=\"http://www.w3.org/2000/svg\" height=\"24px\" viewBox=\"0 -960 960 960\">\n",
              "    <path d=\"M120-120v-720h720v720H120Zm60-500h600v-160H180v160Zm220 220h160v-160H400v160Zm0 220h160v-160H400v160ZM180-400h160v-160H180v160Zm440 0h160v-160H620v160ZM180-180h160v-160H180v160Zm440 0h160v-160H620v160Z\"/>\n",
              "  </svg>\n",
              "    </button>\n",
              "\n",
              "  <style>\n",
              "    .colab-df-container {\n",
              "      display:flex;\n",
              "      gap: 12px;\n",
              "    }\n",
              "\n",
              "    .colab-df-convert {\n",
              "      background-color: #E8F0FE;\n",
              "      border: none;\n",
              "      border-radius: 50%;\n",
              "      cursor: pointer;\n",
              "      display: none;\n",
              "      fill: #1967D2;\n",
              "      height: 32px;\n",
              "      padding: 0 0 0 0;\n",
              "      width: 32px;\n",
              "    }\n",
              "\n",
              "    .colab-df-convert:hover {\n",
              "      background-color: #E2EBFA;\n",
              "      box-shadow: 0px 1px 2px rgba(60, 64, 67, 0.3), 0px 1px 3px 1px rgba(60, 64, 67, 0.15);\n",
              "      fill: #174EA6;\n",
              "    }\n",
              "\n",
              "    .colab-df-buttons div {\n",
              "      margin-bottom: 4px;\n",
              "    }\n",
              "\n",
              "    [theme=dark] .colab-df-convert {\n",
              "      background-color: #3B4455;\n",
              "      fill: #D2E3FC;\n",
              "    }\n",
              "\n",
              "    [theme=dark] .colab-df-convert:hover {\n",
              "      background-color: #434B5C;\n",
              "      box-shadow: 0px 1px 3px 1px rgba(0, 0, 0, 0.15);\n",
              "      filter: drop-shadow(0px 1px 2px rgba(0, 0, 0, 0.3));\n",
              "      fill: #FFFFFF;\n",
              "    }\n",
              "  </style>\n",
              "\n",
              "    <script>\n",
              "      const buttonEl =\n",
              "        document.querySelector('#df-aa475a26-8c71-4dc5-9f37-c662b3a269ac button.colab-df-convert');\n",
              "      buttonEl.style.display =\n",
              "        google.colab.kernel.accessAllowed ? 'block' : 'none';\n",
              "\n",
              "      async function convertToInteractive(key) {\n",
              "        const element = document.querySelector('#df-aa475a26-8c71-4dc5-9f37-c662b3a269ac');\n",
              "        const dataTable =\n",
              "          await google.colab.kernel.invokeFunction('convertToInteractive',\n",
              "                                                    [key], {});\n",
              "        if (!dataTable) return;\n",
              "\n",
              "        const docLinkHtml = 'Like what you see? Visit the ' +\n",
              "          '<a target=\"_blank\" href=https://colab.research.google.com/notebooks/data_table.ipynb>data table notebook</a>'\n",
              "          + ' to learn more about interactive tables.';\n",
              "        element.innerHTML = '';\n",
              "        dataTable['output_type'] = 'display_data';\n",
              "        await google.colab.output.renderOutput(dataTable, element);\n",
              "        const docLink = document.createElement('div');\n",
              "        docLink.innerHTML = docLinkHtml;\n",
              "        element.appendChild(docLink);\n",
              "      }\n",
              "    </script>\n",
              "  </div>\n",
              "\n",
              "\n",
              "<div id=\"df-c538bcbe-ae5b-4908-bf1e-5580ff422b62\">\n",
              "  <button class=\"colab-df-quickchart\" onclick=\"quickchart('df-c538bcbe-ae5b-4908-bf1e-5580ff422b62')\"\n",
              "            title=\"Suggest charts\"\n",
              "            style=\"display:none;\">\n",
              "\n",
              "<svg xmlns=\"http://www.w3.org/2000/svg\" height=\"24px\"viewBox=\"0 0 24 24\"\n",
              "     width=\"24px\">\n",
              "    <g>\n",
              "        <path d=\"M19 3H5c-1.1 0-2 .9-2 2v14c0 1.1.9 2 2 2h14c1.1 0 2-.9 2-2V5c0-1.1-.9-2-2-2zM9 17H7v-7h2v7zm4 0h-2V7h2v10zm4 0h-2v-4h2v4z\"/>\n",
              "    </g>\n",
              "</svg>\n",
              "  </button>\n",
              "\n",
              "<style>\n",
              "  .colab-df-quickchart {\n",
              "      --bg-color: #E8F0FE;\n",
              "      --fill-color: #1967D2;\n",
              "      --hover-bg-color: #E2EBFA;\n",
              "      --hover-fill-color: #174EA6;\n",
              "      --disabled-fill-color: #AAA;\n",
              "      --disabled-bg-color: #DDD;\n",
              "  }\n",
              "\n",
              "  [theme=dark] .colab-df-quickchart {\n",
              "      --bg-color: #3B4455;\n",
              "      --fill-color: #D2E3FC;\n",
              "      --hover-bg-color: #434B5C;\n",
              "      --hover-fill-color: #FFFFFF;\n",
              "      --disabled-bg-color: #3B4455;\n",
              "      --disabled-fill-color: #666;\n",
              "  }\n",
              "\n",
              "  .colab-df-quickchart {\n",
              "    background-color: var(--bg-color);\n",
              "    border: none;\n",
              "    border-radius: 50%;\n",
              "    cursor: pointer;\n",
              "    display: none;\n",
              "    fill: var(--fill-color);\n",
              "    height: 32px;\n",
              "    padding: 0;\n",
              "    width: 32px;\n",
              "  }\n",
              "\n",
              "  .colab-df-quickchart:hover {\n",
              "    background-color: var(--hover-bg-color);\n",
              "    box-shadow: 0 1px 2px rgba(60, 64, 67, 0.3), 0 1px 3px 1px rgba(60, 64, 67, 0.15);\n",
              "    fill: var(--button-hover-fill-color);\n",
              "  }\n",
              "\n",
              "  .colab-df-quickchart-complete:disabled,\n",
              "  .colab-df-quickchart-complete:disabled:hover {\n",
              "    background-color: var(--disabled-bg-color);\n",
              "    fill: var(--disabled-fill-color);\n",
              "    box-shadow: none;\n",
              "  }\n",
              "\n",
              "  .colab-df-spinner {\n",
              "    border: 2px solid var(--fill-color);\n",
              "    border-color: transparent;\n",
              "    border-bottom-color: var(--fill-color);\n",
              "    animation:\n",
              "      spin 1s steps(1) infinite;\n",
              "  }\n",
              "\n",
              "  @keyframes spin {\n",
              "    0% {\n",
              "      border-color: transparent;\n",
              "      border-bottom-color: var(--fill-color);\n",
              "      border-left-color: var(--fill-color);\n",
              "    }\n",
              "    20% {\n",
              "      border-color: transparent;\n",
              "      border-left-color: var(--fill-color);\n",
              "      border-top-color: var(--fill-color);\n",
              "    }\n",
              "    30% {\n",
              "      border-color: transparent;\n",
              "      border-left-color: var(--fill-color);\n",
              "      border-top-color: var(--fill-color);\n",
              "      border-right-color: var(--fill-color);\n",
              "    }\n",
              "    40% {\n",
              "      border-color: transparent;\n",
              "      border-right-color: var(--fill-color);\n",
              "      border-top-color: var(--fill-color);\n",
              "    }\n",
              "    60% {\n",
              "      border-color: transparent;\n",
              "      border-right-color: var(--fill-color);\n",
              "    }\n",
              "    80% {\n",
              "      border-color: transparent;\n",
              "      border-right-color: var(--fill-color);\n",
              "      border-bottom-color: var(--fill-color);\n",
              "    }\n",
              "    90% {\n",
              "      border-color: transparent;\n",
              "      border-bottom-color: var(--fill-color);\n",
              "    }\n",
              "  }\n",
              "</style>\n",
              "\n",
              "  <script>\n",
              "    async function quickchart(key) {\n",
              "      const quickchartButtonEl =\n",
              "        document.querySelector('#' + key + ' button');\n",
              "      quickchartButtonEl.disabled = true;  // To prevent multiple clicks.\n",
              "      quickchartButtonEl.classList.add('colab-df-spinner');\n",
              "      try {\n",
              "        const charts = await google.colab.kernel.invokeFunction(\n",
              "            'suggestCharts', [key], {});\n",
              "      } catch (error) {\n",
              "        console.error('Error during call to suggestCharts:', error);\n",
              "      }\n",
              "      quickchartButtonEl.classList.remove('colab-df-spinner');\n",
              "      quickchartButtonEl.classList.add('colab-df-quickchart-complete');\n",
              "    }\n",
              "    (() => {\n",
              "      let quickchartButtonEl =\n",
              "        document.querySelector('#df-c538bcbe-ae5b-4908-bf1e-5580ff422b62 button');\n",
              "      quickchartButtonEl.style.display =\n",
              "        google.colab.kernel.accessAllowed ? 'block' : 'none';\n",
              "    })();\n",
              "  </script>\n",
              "</div>\n",
              "    </div>\n",
              "  </div>\n"
            ],
            "application/vnd.google.colaboratory.intrinsic+json": {
              "type": "dataframe",
              "variable_name": "X_train"
            }
          },
          "metadata": {},
          "execution_count": 31
        }
      ]
    },
    {
      "cell_type": "markdown",
      "metadata": {
        "id": "AVS4T-IUBp0u"
      },
      "source": [
        "**Задание 2.2 (5/8 балла):** Как обычно обработайте датасет всеми нужными методами, чтобы на нём можно было обучать линейную регрессию:\n",
        "\n",
        "* Разделите датасет на обучающую и тестовую выборку\n",
        "* Заполните пропуски\n",
        "* Нормализуйте числовые признаки\n",
        "* Закодируйте категориальные переменные"
      ]
    },
    {
      "cell_type": "markdown",
      "metadata": {
        "id": "Qm7c7zIzBp0u"
      },
      "source": [
        "**Задание 2.3 (5/8 балла):** Обучите написанную вами линейную регрессию на обучающей выборке"
      ]
    },
    {
      "cell_type": "code",
      "execution_count": 32,
      "metadata": {
        "id": "lzjAlpliBp0u",
        "colab": {
          "base_uri": "https://localhost:8080/"
        },
        "outputId": "9c5e58a6-b4c4-4104-e689-e11f44bb0718"
      },
      "outputs": [
        {
          "output_type": "execute_result",
          "data": {
            "text/plain": [
              "<__main__.LinearRegression at 0x7a2439e65000>"
            ]
          },
          "metadata": {},
          "execution_count": 32
        }
      ],
      "source": [
        "# -- YOUR CODE HERE --\n",
        "\n",
        "linear_reg = LinearRegression(loss,0.005)\n",
        "linear_reg.fit(X_train,y_train)"
      ]
    },
    {
      "cell_type": "markdown",
      "metadata": {
        "id": "rr1bF2_bBp0u"
      },
      "source": [
        "**Задание 2.4 (5/8 балла):** Посчитайте ошибку обученной регрессии на обучающей и тестовой выборке при помощи метода `mean_squared_error` из `sklearn.metrics`."
      ]
    },
    {
      "cell_type": "code",
      "execution_count": 33,
      "metadata": {
        "id": "L2KjQjxvBp0v",
        "colab": {
          "base_uri": "https://localhost:8080/"
        },
        "outputId": "5e53e230-6cca-49ad-b7c1-8d67b7ae9856"
      },
      "outputs": [
        {
          "output_type": "execute_result",
          "data": {
            "text/plain": [
              "7888101.771667283"
            ]
          },
          "metadata": {},
          "execution_count": 33
        }
      ],
      "source": [
        "from sklearn.metrics import mean_squared_error\n",
        "\n",
        "# -- YOUR CODE HERE --\n",
        "y_pred = linear_reg.predict(X_test)\n",
        "mean_squared_error(y_test,y_pred)\n"
      ]
    },
    {
      "cell_type": "markdown",
      "metadata": {
        "id": "SS5Oh4YoBp0v"
      },
      "source": [
        "Наша модель переобучилась. Давайте как обычно в такой ситуации добавим к ней L2 регуляризацию. Для этого нам нужно написать новый класс лосса.\n",
        "\n",
        "Формула функции потерь для MSE с L2 регуляризацией выглядит так:\n",
        "$$\n",
        "Q(w, X, y) = \\frac{1}{\\ell} \\sum\\limits_{i=1}^\\ell (\\langle x_i, w \\rangle - y_i)^2 + \\lambda ||w||^2\n",
        "$$\n",
        "\n",
        "Или в матричном виде:\n",
        "\n",
        "$$\n",
        "Q(w, X, y) = \\frac{1}{\\ell} || Xw - y ||^2 + \\lambda ||w||^2\n",
        "$$\n",
        "\n",
        "Где $\\lambda$ — коэффициент регуляризации\n",
        "\n",
        "Градиент выглядит так:\n",
        "\n",
        "$$\n",
        "\\nabla_w Q(w, X, y) = \\frac{2}{\\ell} X^T(Xw-y) + 2 \\lambda w\n",
        "$$"
      ]
    },
    {
      "cell_type": "markdown",
      "metadata": {
        "id": "Vogzj2W0Bp0v"
      },
      "source": [
        "**Задание 2.5 (5/8 балла):** Реализуйте класс `MSEL2Loss`\n",
        "\n",
        "Он должен вычислять лосс и градиент по формулам наверху\n",
        "\n",
        "Подсказка: обратите внимание, что последний элемент вектора `w` — это bias (в классе `LinearRegression` к матрице `X` добавляется колонка из единиц — константный признак). Как мы знаем из лекций и семинаров, bias регуляризовать не нужно. Поэтому не забудьте убрать последний элемент из `w` при подсчёте слагаемого $\\lambda||w||^2$ в `calc_loss` и занулить его при подсчёте слагаемого $2 \\lambda w$ в `calc_grad`"
      ]
    },
    {
      "cell_type": "code",
      "execution_count": 34,
      "metadata": {
        "id": "58FvnEjHBp0v"
      },
      "outputs": [],
      "source": [
        "class MSEL2Loss(BaseLoss):\n",
        "    def __init__(self, coef: float = 1.0):\n",
        "        \"\"\"\n",
        "        :param coef: коэффициент регуляризации (лямбда в формуле)\n",
        "        \"\"\"\n",
        "        self.coef = coef\n",
        "\n",
        "    def calc_loss(self, X: np.ndarray, y: np.ndarray, w: np.ndarray) -> float:\n",
        "        \"\"\"\n",
        "        Функция для вычислений значения лосса\n",
        "        :param X: np.ndarray размера (n_objects, n_features) с объектами датасета. Последний признак константный.\n",
        "        :param y: np.ndarray размера (n_objects,) с правильными ответами\n",
        "        :param w: np.ndarray размера (n_features,) с весами линейной регрессии. Последний вес -- bias.\n",
        "        :output: число -- значения функции потерь\n",
        "        \"\"\"\n",
        "        # -- YOUR CODE HERE --\n",
        "        # Вычислите значение функции потерь при помощи X, y и w и верните его\n",
        "        return np.linalg.norm(X@w-y)**2/X.shape[0] + self.coef * np.linalg.norm(w)**2\n",
        "\n",
        "\n",
        "    def calc_grad(self, X: np.ndarray, y: np.ndarray, w: np.ndarray) -> np.ndarray:\n",
        "        \"\"\"\n",
        "        Функция для вычислений градиента лосса по весам w\n",
        "        :param X: np.ndarray размера (n_objects, n_features) с объектами датасета\n",
        "        :param y: np.ndarray размера (n_objects,) с правильными ответами\n",
        "        :param w: np.ndarray размера (n_features,) с весами линейной регрессии\n",
        "        :output: np.ndarray размера (n_features,) градиент функции потерь по весам w\n",
        "        \"\"\"\n",
        "        # -- YOUR CODE HERE --\n",
        "        # Вычислите значение вектора градиента при помощи X, y и w и верните его\n",
        "        return ((2 * X.T @ (X @ w - y))/X.shape[0]) + 2 * self.coef * w"
      ]
    },
    {
      "cell_type": "markdown",
      "metadata": {
        "id": "lTl1XQP5Bp0v"
      },
      "source": [
        "Теперь мы можем использовать лосс с l2 регуляризацией в нашей регрессии, например, так:"
      ]
    },
    {
      "cell_type": "code",
      "execution_count": 35,
      "metadata": {
        "id": "QanspiddBp0v"
      },
      "outputs": [],
      "source": [
        "linear_regression = LinearRegression(MSEL2Loss(0.001))"
      ]
    },
    {
      "cell_type": "markdown",
      "metadata": {
        "id": "VwmC8B0OBp0w"
      },
      "source": [
        "**Задание 2.6 (5/8 балла):** Обучите регрессию с лоссом `MSEL2Loss`. Подберите хороший коэффициент регуляризации и добейтесь улучшения результата на тестовой выборке. Сравните результат на обучающей и тестовой выборке с регрессией без регуляризации."
      ]
    },
    {
      "cell_type": "code",
      "execution_count": 36,
      "metadata": {
        "id": "9FId8tKOBp0w",
        "colab": {
          "base_uri": "https://localhost:8080/"
        },
        "outputId": "c5e26af9-7048-45e1-bd8e-a2c5cac66c34"
      },
      "outputs": [
        {
          "output_type": "execute_result",
          "data": {
            "text/plain": [
              "7212772.324903566"
            ]
          },
          "metadata": {},
          "execution_count": 36
        }
      ],
      "source": [
        "# -- YOUR CODE HERE --\n",
        "linear_regression.fit(X_train,y_train)\n",
        "y_pred2 = linear_regression.predict(X_test)\n",
        "mean_squared_error(y_test,y_pred2)"
      ]
    },
    {
      "cell_type": "markdown",
      "metadata": {
        "id": "e3GSc1JvBp0w"
      },
      "source": [
        "В нашем датасете могут быть выбросы. На семинаре вам рассказывали, что с выбросами хорошо помогает бороться Huber Loss. Вдали от нуля он работает как Mean Absolute Error и не реагирует на выбросы так сильно, как MSE. Давайте его реализуем и применим в нашей регрессии.\n",
        "\n",
        "Напомним, что функция потерь Huber Loss'а  выглядит так:\n",
        "\n",
        "\n",
        "$$\n",
        "    Q(w, X, y) = \\frac{1}{\\ell} \\sum\\limits_{i=1}^\\ell \\phi_\\varepsilon (\\langle x_i, w \\rangle - y_i)\n",
        "$$\n",
        "$$\n",
        "    \\phi_\\varepsilon(z) = \\begin{cases} \\frac 1 2 z^2, - \\varepsilon < z < \\varepsilon, \\\\\\varepsilon (|z| - \\frac 1 2 \\varepsilon), иначе \\\\ \\end{cases}\n",
        "$$\n",
        "\n",
        "\n",
        "А градиент так:\n",
        "$$\n",
        "    \\nabla_w Q(w, X, y) = \\frac{1}{\\ell} \\sum\\limits_{i=1}^\\ell x_i \\nabla_z \\phi_\\varepsilon (\\langle x_i, w \\rangle - y_i)\n",
        "$$\n",
        "$$\n",
        "    \\nabla_z \\phi_\\varepsilon(z) = \\begin{cases} z, - \\varepsilon < z < \\varepsilon, \\\\\\varepsilon \\text{ sign}(z), иначе \\\\ \\end{cases}\n",
        "$$"
      ]
    },
    {
      "cell_type": "markdown",
      "metadata": {
        "id": "B-y7M1qIBp0w"
      },
      "source": [
        "**Задание 2.7 (5/8 балла):** Реализуйте класс `HuberLoss`\n",
        "\n",
        "Он должен вычислять лосс и градиент по формулам наверху"
      ]
    },
    {
      "cell_type": "code",
      "execution_count": 61,
      "metadata": {
        "id": "LqXGo9OLBp0w"
      },
      "outputs": [],
      "source": [
        "class HuberLoss(BaseLoss):\n",
        "    def __init__(self, eps: float) -> None:\n",
        "        \"\"\"\n",
        "        :param eps: параметр huber loss из формулы\n",
        "        \"\"\"\n",
        "        self.eps = eps\n",
        "\n",
        "    def calc_loss(self, X: np.ndarray, y: np.ndarray, w: np.ndarray) -> float:\n",
        "        \"\"\"\n",
        "        Функция для вычислений значения лосса\n",
        "        :param X: np.ndarray размера (n_objects, n_features) с объектами датасета\n",
        "        :param y: np.ndarray размера (n_objects,) с правильными ответами\n",
        "        :param w: np.ndarray размера (n_features,) с весами линейной регрессии\n",
        "        :output: число -- значения функции потерь\n",
        "        \"\"\"\n",
        "\n",
        "        temp = np.fabs(np.dot(X,w) - y)\n",
        "        ans  = np.arange(temp.shape[0])\n",
        "        ans[temp<self.eps] = (temp[temp<self.eps].copy()**2)/2\n",
        "        ans[temp>=self.eps] = self.eps * (temp[temp>=self.eps].copy() - self.eps/2)\n",
        "        # sum =0\n",
        "        # for i in range(X.shape[0]):\n",
        "        #   if abs(X[i]@w-y[i])<self.eps:\n",
        "        #     summ+=(X[i]@w-y[i])**2/2\n",
        "        #   else:\n",
        "        #     summ+= self.eps*(abs(X[i]@w-y[i])-self.eps/2)\n",
        "        # return summ/X.shape[0]\n",
        "        # # -- YOUR CODE HERE --\n",
        "        return ans.mean()\n",
        "        # Вычислите значение функции потерь при помощи X, y и w и верните его\n",
        "\n",
        "    def calc_grad(self, X: np.ndarray, y: np.ndarray, w: np.ndarray) -> np.ndarray:\n",
        "        \"\"\"\n",
        "        Функция для вычислений градиента лосса по весам w\n",
        "        :param X: np.ndarray размера (n_objects, n_features) с объектами датасета\n",
        "        :param y: np.ndarray размера (n_objects,) с правильными ответами\n",
        "        :param w: np.ndarray размера (n_features,) с весами линейной регрессии\n",
        "        :output: np.ndarray размера (n_features,) градиент функции потерь по весам w\n",
        "        \"\"\"\n",
        "\n",
        "        # -- YOUR CODE HERE --\n",
        "        # Вычислите значение вектора градиента при помощи X, y и w и верните его\n",
        "        temp = np.fabs(np.dot(X,w) - y)\n",
        "        ans  = np.arange(temp.shape[0])\n",
        "        ans[temp < self.eps] = temp[temp<self.eps]\n",
        "        ans[temp>=self.eps] = self.eps * np.sign(temp[temp>=self.eps])\n",
        "\n",
        "        # summ =0\n",
        "        # for i in range(X.shape[0]):\n",
        "        #   if abs(X[i]@w-y[i])<self.eps:\n",
        "        #     summ+=X[i]@(X[i]*w-y[i])**2/2\n",
        "        #   else:\n",
        "        #     summ+= X[i]@self.eps*np.sign\n",
        "\n",
        "        # return summ/X.shape[0]\n",
        "        summ = np.zeros(X.shape[1])\n",
        "        for i in range(X.shape[0]):\n",
        "\n",
        "          summ+= X[i]*ans[i]\n",
        "\n",
        "\n",
        "        return summ.mean()"
      ]
    },
    {
      "cell_type": "markdown",
      "metadata": {
        "id": "hyZkVwLWBp0w"
      },
      "source": [
        "**Задание 2.8 (5/8 балла):** Обучите регрессию с лоссом `HuberLoss`. Сравните результат на обучающей и тестовой выборке с регрессией, обученной c `MSELoss`."
      ]
    },
    {
      "cell_type": "code",
      "execution_count": 64,
      "metadata": {
        "id": "q_BLLnGuBp0w",
        "colab": {
          "base_uri": "https://localhost:8080/"
        },
        "outputId": "e2ab445f-e2e3-4481-837a-b5ee1cafa46e"
      },
      "outputs": [
        {
          "output_type": "execute_result",
          "data": {
            "text/plain": [
              "299263851.79269445"
            ]
          },
          "metadata": {},
          "execution_count": 64
        }
      ],
      "source": [
        "# -- YOUR CODE HERE --\n",
        "huber = LinearRegression(HuberLoss(0.5))\n",
        "huber.fit(X_train,y_train)\n",
        "y_pred_huber = huber.predict(X_test)\n",
        "mean_squared_error(y_test,y_pred_huber)"
      ]
    },
    {
      "cell_type": "markdown",
      "metadata": {
        "id": "MdIqCkSEBp0w"
      },
      "source": [
        "**Задание 3 (0.08/8 балла)**\n",
        "Вставьте ваш любимый мем 2021 в ячейку ниже:"
      ]
    },
    {
      "cell_type": "code",
      "execution_count": null,
      "metadata": {
        "id": "numfffXPBp0x"
      },
      "outputs": [],
      "source": [
        "# -- YOUR MEME HERE --"
      ]
    },
    {
      "cell_type": "markdown",
      "metadata": {
        "id": "l5cGx9vyBp0x"
      },
      "source": [
        "### БОНУС (2.5 баллов)"
      ]
    },
    {
      "cell_type": "markdown",
      "metadata": {
        "id": "YzpUzkPABp0x"
      },
      "source": [
        "Градиентный спуск — далеко не единственный метод оптимизации.\n",
        "Другой очень известный метод называется [\"Алгоритм имитации отжига\"](https://ru.wikipedia.org/wiki/%D0%90%D0%BB%D0%B3%D0%BE%D1%80%D0%B8%D1%82%D0%BC_%D0%B8%D0%BC%D0%B8%D1%82%D0%B0%D1%86%D0%B8%D0%B8_%D0%BE%D1%82%D0%B6%D0%B8%D0%B3%D0%B0). Он не так часто используется для оптимизации моделей машинного обучения, но у вас есть уникальная возможность попробовать применить его к нашей любимой линейной регрессии."
      ]
    },
    {
      "cell_type": "markdown",
      "metadata": {
        "id": "k7Mr6bQLBp0x"
      },
      "source": [
        "**Задание (2.5 баллов)**:\n",
        "Напишите алгоритм имитации отжига для оптимизации MSE линейной регрессии.\n",
        "\n",
        "Сравните результат с градиентным спуском по \"траектории\" и по финальному лоссу.\n",
        "\n",
        "Подсказка: каждую новую точку (веса регресси в нашем случае) можно семплировать из некоторого случайного распределением с центром в текущей точке. Хорошо подойдут распределения с \"тяжёлыми\" хвостами, например, распределение Стьюдента с параметром количества степеней свободы в районе 3.\n",
        "Это может выглядеть, например, так:\n",
        "```\n",
        "new_w = old_w + np.random.standard_t(3, size=old_w.shape)\n",
        "```\n",
        "С параметром распределения можно поэксперементировать: чем он больше, тем реже новые точки будут очень сильно уходить от старых."
      ]
    },
    {
      "cell_type": "code",
      "execution_count": null,
      "metadata": {
        "id": "0xuSuYPzBp0x"
      },
      "outputs": [],
      "source": [
        "# -- YOUR CODE HERE --"
      ]
    }
  ],
  "metadata": {
    "colab": {
      "collapsed_sections": [
        "l5cGx9vyBp0x"
      ],
      "provenance": []
    },
    "kernelspec": {
      "display_name": "Python 3",
      "language": "python",
      "name": "python3"
    },
    "language_info": {
      "codemirror_mode": {
        "name": "ipython",
        "version": 3
      },
      "file_extension": ".py",
      "mimetype": "text/x-python",
      "name": "python",
      "nbconvert_exporter": "python",
      "pygments_lexer": "ipython3",
      "version": "3.7.9"
    }
  },
  "nbformat": 4,
  "nbformat_minor": 0
}